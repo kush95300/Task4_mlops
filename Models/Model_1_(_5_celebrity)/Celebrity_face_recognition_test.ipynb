{
 "cells": [
  {
   "cell_type": "code",
   "execution_count": 1,
   "metadata": {},
   "outputs": [],
   "source": [
    "### Testing Our Trained Model"
   ]
  },
  {
   "cell_type": "code",
   "execution_count": 2,
   "metadata": {},
   "outputs": [
    {
     "name": "stdout",
     "output_type": "stream",
     "text": [
      "Found 234 images belonging to 5 classes.\n"
     ]
    }
   ],
   "source": [
    "from keras.models import load_model\n",
    "from keras.preprocessing.image import ImageDataGenerator\n",
    "\n",
    "img_rows, img_cols = 224, 224\n",
    "\n",
    "classifier = load_model('celebrity_face_recognition_model_weight.h5')\n",
    "\n",
    "validation_data_dir = 'Dataset/test/'\n",
    "\n",
    "# images converted as input images \n",
    "validation_datagen = ImageDataGenerator(rescale=1./255)\n",
    " \n",
    "# set our batch size (typically on most mid tier systems we'll use 16-32)\n",
    "batch_size = 32\n",
    " \n",
    "validation_generator = validation_datagen.flow_from_directory(\n",
    "        validation_data_dir,\n",
    "        target_size=(img_rows, img_cols),\n",
    "        batch_size=batch_size,\n",
    "        class_mode='categorical')"
   ]
  },
  {
   "cell_type": "markdown",
   "metadata": {},
   "source": [
    "### Testing our classifer on some test images"
   ]
  },
  {
   "cell_type": "code",
   "execution_count": 6,
   "metadata": {
    "scrolled": false
   },
   "outputs": [
    {
     "name": "stdout",
     "output_type": "stream",
     "text": [
      "Actual : Alia_Bhatt\n",
      "Predicted : Amitabh_Bachchan\n",
      "\n",
      "Actual : Alia_Bhatt\n",
      "Predicted : Alia_Bhatt\n",
      "\n",
      "Actual : Amitabh_Bachchan\n",
      "Predicted : Amitabh_Bachchan\n",
      "\n",
      "Actual : Akshay_Kumar\n",
      "Predicted : Amitabh_Bachchan\n",
      "\n",
      "Actual : Aishwarya_Rai\n",
      "Predicted : Aishwarya_Rai \n",
      "\n",
      "Actual : Aamir_Khan\n",
      "Predicted : Amitabh_Bachchan\n",
      "\n",
      "Actual : Aamir_Khan\n",
      "Predicted : Aamir_khan\n",
      "\n",
      "Actual : Akshay_Kumar\n",
      "Predicted : Akshay_Kumar\n",
      "\n",
      "Actual : Akshay_Kumar\n",
      "Predicted : Amitabh_Bachchan\n",
      "\n",
      "Actual : Alia_Bhatt\n",
      "Predicted : Aishwarya_Rai \n",
      "\n"
     ]
    }
   ],
   "source": [
    "import os\n",
    "import cv2\n",
    "import numpy as np\n",
    "from os import listdir\n",
    "from os.path import isfile, join\n",
    "\n",
    "celebrity_dict = {\"[0]\": \"Aamir_khan\",\n",
    "                  \"[1]\": \"Aishwarya_Rai \",\n",
    "                  \"[2]\": \"Akshay_Kumar\",\n",
    "                  \"[3]\": \"Alia_Bhatt\",\n",
    "                  \"[4]\": \"Amitabh_Bachchan\"}\n",
    "                  \n",
    "       \n",
    "\n",
    "def draw_test(name, pred, im):\n",
    "    celebrity = celebrity_dict[str(pred)]\n",
    "    BLACK = [0,0,0]\n",
    "    expanded_image = cv2.copyMakeBorder(im, 80, 0, 0, 100 ,cv2.BORDER_CONSTANT,value=BLACK)\n",
    "    cv2.putText(expanded_image, celebrity, (20, 60) , cv2.FONT_HERSHEY_SIMPLEX,1, (0,0,255), 2)\n",
    "    cv2.imshow(name, expanded_image)\n",
    "\n",
    "def getRandomImage(path):\n",
    "    \"\"\"function loads a random images from a random folder in our test path \"\"\"\n",
    "    folders = list(filter(lambda x: os.path.isdir(os.path.join(path, x)), os.listdir(path)))\n",
    "    random_directory = np.random.randint(0,len(folders))\n",
    "    path_class = folders[random_directory]\n",
    "    print(\"Actual : \"+str(path_class))\n",
    "    #print(\"Class - \" + celebrity_dict_n[str(path_class)])\n",
    "    file_path = path + path_class\n",
    "    #print(file_path)\n",
    "    file_names = [f for f in listdir(file_path) if isfile(join(file_path, f))]\n",
    "    random_file_index = np.random.randint(0,len(file_names))\n",
    "    image_name = file_names[random_file_index]\n",
    "    return cv2.imread(file_path+\"/\"+image_name)    \n",
    "\n",
    "for i in range(0,10):\n",
    "    input_im = getRandomImage(\"Dataset/test/\")\n",
    "    input_original = input_im.copy()\n",
    "    input_original = cv2.resize(input_original, None, fx=0.5, fy=0.5, interpolation = cv2.INTER_LINEAR)\n",
    "    \n",
    "    input_im = cv2.resize(input_im, (224, 224), interpolation = cv2.INTER_LINEAR)\n",
    "    input_im = input_im / 255.\n",
    "    input_im = input_im.reshape(1,224,224,3) \n",
    "    \n",
    "    # Get Prediction\n",
    "    res = np.argmax(classifier.predict(input_im, 1, verbose = 0), axis=1)\n",
    "    # Show image with predicted class\n",
    "    draw_test(\"Prediction\", res, input_original) \n",
    "    print(\"Predicted : \" + celebrity_dict[str(res)] + \"\\n\")\n",
    "    cv2.waitKey(0)\n",
    "\n",
    "cv2.destroyAllWindows()"
   ]
  },
  {
   "cell_type": "code",
   "execution_count": null,
   "metadata": {},
   "outputs": [],
   "source": []
  }
 ],
 "metadata": {
  "kernelspec": {
   "display_name": "Python 3",
   "language": "python",
   "name": "python3"
  },
  "language_info": {
   "codemirror_mode": {
    "name": "ipython",
    "version": 3
   },
   "file_extension": ".py",
   "mimetype": "text/x-python",
   "name": "python",
   "nbconvert_exporter": "python",
   "pygments_lexer": "ipython3",
   "version": "3.8.3"
  }
 },
 "nbformat": 4,
 "nbformat_minor": 2
}
